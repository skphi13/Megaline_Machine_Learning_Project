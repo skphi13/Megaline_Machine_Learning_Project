{
 "cells": [
  {
   "cell_type": "markdown",
   "metadata": {},
   "source": [
    "### Project Info\n",
    "Mobile carrier Megaline has found out that many of their subscribers use legacy plans. They want to develop a model that would analyze subscribers' behavior and recommend one of Megaline's newer plans: Smart or Ultra. \n",
    "\n",
    "You have access to behavior data about subscribers who have already switched to the new plans (from the project for the Statistical Data Analysis course). For this classification task, you need to develop a model that will pick the right plan. Since you’ve already performed the data preprocessing step, you can move straight to creating the model.  \n",
    "\n",
    "**Develop a model with the highest possible accuracy. In this project, the threshold for accuracy is 0.75. Check the accuracy using the test dataset.**"
   ]
  },
  {
   "cell_type": "markdown",
   "metadata": {},
   "source": [
    "#### Import all libraries"
   ]
  },
  {
   "cell_type": "code",
   "execution_count": 2,
   "metadata": {},
   "outputs": [],
   "source": [
    "import pandas as pd\n",
    "import numpy as np\n",
    "import matplotlib.pyplot as plt\n",
    "import seaborn as sns\n",
    "from sklearn.linear_model import LogisticRegression\n",
    "from sklearn.tree import DecisionTreeClassifier\n",
    "from sklearn.ensemble import RandomForestClassifier\n",
    "from sklearn.model_selection import train_test_split, GridSearchCV\n",
    "from sklearn.metrics import accuracy_score, classification_report, confusion_matrix, ConfusionMatrixDisplay\n",
    "import ast\n",
    "import warnings\n",
    "import joblib"
   ]
  },
  {
   "cell_type": "markdown",
   "metadata": {},
   "source": [
    "#### Data Prep"
   ]
  },
  {
   "cell_type": "code",
   "execution_count": 3,
   "metadata": {},
   "outputs": [
    {
     "data": {
      "text/html": [
       "<div>\n",
       "<style scoped>\n",
       "    .dataframe tbody tr th:only-of-type {\n",
       "        vertical-align: middle;\n",
       "    }\n",
       "\n",
       "    .dataframe tbody tr th {\n",
       "        vertical-align: top;\n",
       "    }\n",
       "\n",
       "    .dataframe thead th {\n",
       "        text-align: right;\n",
       "    }\n",
       "</style>\n",
       "<table border=\"1\" class=\"dataframe\">\n",
       "  <thead>\n",
       "    <tr style=\"text-align: right;\">\n",
       "      <th></th>\n",
       "      <th>calls</th>\n",
       "      <th>minutes</th>\n",
       "      <th>messages</th>\n",
       "      <th>mb_used</th>\n",
       "      <th>is_ultra</th>\n",
       "    </tr>\n",
       "  </thead>\n",
       "  <tbody>\n",
       "    <tr>\n",
       "      <th>0</th>\n",
       "      <td>40.0</td>\n",
       "      <td>311.90</td>\n",
       "      <td>83.0</td>\n",
       "      <td>19915.42</td>\n",
       "      <td>0</td>\n",
       "    </tr>\n",
       "    <tr>\n",
       "      <th>1</th>\n",
       "      <td>85.0</td>\n",
       "      <td>516.75</td>\n",
       "      <td>56.0</td>\n",
       "      <td>22696.96</td>\n",
       "      <td>0</td>\n",
       "    </tr>\n",
       "    <tr>\n",
       "      <th>2</th>\n",
       "      <td>77.0</td>\n",
       "      <td>467.66</td>\n",
       "      <td>86.0</td>\n",
       "      <td>21060.45</td>\n",
       "      <td>0</td>\n",
       "    </tr>\n",
       "    <tr>\n",
       "      <th>3</th>\n",
       "      <td>106.0</td>\n",
       "      <td>745.53</td>\n",
       "      <td>81.0</td>\n",
       "      <td>8437.39</td>\n",
       "      <td>1</td>\n",
       "    </tr>\n",
       "    <tr>\n",
       "      <th>4</th>\n",
       "      <td>66.0</td>\n",
       "      <td>418.74</td>\n",
       "      <td>1.0</td>\n",
       "      <td>14502.75</td>\n",
       "      <td>0</td>\n",
       "    </tr>\n",
       "  </tbody>\n",
       "</table>\n",
       "</div>"
      ],
      "text/plain": [
       "   calls  minutes  messages   mb_used  is_ultra\n",
       "0   40.0   311.90      83.0  19915.42         0\n",
       "1   85.0   516.75      56.0  22696.96         0\n",
       "2   77.0   467.66      86.0  21060.45         0\n",
       "3  106.0   745.53      81.0   8437.39         1\n",
       "4   66.0   418.74       1.0  14502.75         0"
      ]
     },
     "execution_count": 3,
     "metadata": {},
     "output_type": "execute_result"
    }
   ],
   "source": [
    "df = pd.read_csv('/datasets/users_behavior.csv')\n",
    "\n",
    "df.head()"
   ]
  },
  {
   "cell_type": "markdown",
   "metadata": {},
   "source": [
    "Loaded the data"
   ]
  },
  {
   "cell_type": "code",
   "execution_count": 4,
   "metadata": {},
   "outputs": [
    {
     "data": {
      "text/plain": [
       "0"
      ]
     },
     "execution_count": 4,
     "metadata": {},
     "output_type": "execute_result"
    }
   ],
   "source": [
    "df.duplicated().sum()"
   ]
  },
  {
   "cell_type": "code",
   "execution_count": 5,
   "metadata": {},
   "outputs": [
    {
     "data": {
      "text/plain": [
       "calls       0\n",
       "minutes     0\n",
       "messages    0\n",
       "mb_used     0\n",
       "is_ultra    0\n",
       "dtype: int64"
      ]
     },
     "execution_count": 5,
     "metadata": {},
     "output_type": "execute_result"
    }
   ],
   "source": [
    "df.isnull().sum()"
   ]
  },
  {
   "cell_type": "code",
   "execution_count": 6,
   "metadata": {},
   "outputs": [
    {
     "name": "stdout",
     "output_type": "stream",
     "text": [
      "<class 'pandas.core.frame.DataFrame'>\n",
      "RangeIndex: 3214 entries, 0 to 3213\n",
      "Data columns (total 5 columns):\n",
      " #   Column    Non-Null Count  Dtype  \n",
      "---  ------    --------------  -----  \n",
      " 0   calls     3214 non-null   float64\n",
      " 1   minutes   3214 non-null   float64\n",
      " 2   messages  3214 non-null   float64\n",
      " 3   mb_used   3214 non-null   float64\n",
      " 4   is_ultra  3214 non-null   int64  \n",
      "dtypes: float64(4), int64(1)\n",
      "memory usage: 125.7 KB\n"
     ]
    }
   ],
   "source": [
    "df.info()"
   ]
  },
  {
   "cell_type": "code",
   "execution_count": 7,
   "metadata": {},
   "outputs": [
    {
     "data": {
      "text/html": [
       "<div>\n",
       "<style scoped>\n",
       "    .dataframe tbody tr th:only-of-type {\n",
       "        vertical-align: middle;\n",
       "    }\n",
       "\n",
       "    .dataframe tbody tr th {\n",
       "        vertical-align: top;\n",
       "    }\n",
       "\n",
       "    .dataframe thead th {\n",
       "        text-align: right;\n",
       "    }\n",
       "</style>\n",
       "<table border=\"1\" class=\"dataframe\">\n",
       "  <thead>\n",
       "    <tr style=\"text-align: right;\">\n",
       "      <th></th>\n",
       "      <th>calls</th>\n",
       "      <th>minutes</th>\n",
       "      <th>messages</th>\n",
       "      <th>mb_used</th>\n",
       "      <th>is_ultra</th>\n",
       "    </tr>\n",
       "  </thead>\n",
       "  <tbody>\n",
       "    <tr>\n",
       "      <th>count</th>\n",
       "      <td>3214.000000</td>\n",
       "      <td>3214.000000</td>\n",
       "      <td>3214.000000</td>\n",
       "      <td>3214.000000</td>\n",
       "      <td>3214.000000</td>\n",
       "    </tr>\n",
       "    <tr>\n",
       "      <th>mean</th>\n",
       "      <td>63.038892</td>\n",
       "      <td>438.208787</td>\n",
       "      <td>38.281269</td>\n",
       "      <td>17207.673836</td>\n",
       "      <td>0.306472</td>\n",
       "    </tr>\n",
       "    <tr>\n",
       "      <th>std</th>\n",
       "      <td>33.236368</td>\n",
       "      <td>234.569872</td>\n",
       "      <td>36.148326</td>\n",
       "      <td>7570.968246</td>\n",
       "      <td>0.461100</td>\n",
       "    </tr>\n",
       "    <tr>\n",
       "      <th>min</th>\n",
       "      <td>0.000000</td>\n",
       "      <td>0.000000</td>\n",
       "      <td>0.000000</td>\n",
       "      <td>0.000000</td>\n",
       "      <td>0.000000</td>\n",
       "    </tr>\n",
       "    <tr>\n",
       "      <th>25%</th>\n",
       "      <td>40.000000</td>\n",
       "      <td>274.575000</td>\n",
       "      <td>9.000000</td>\n",
       "      <td>12491.902500</td>\n",
       "      <td>0.000000</td>\n",
       "    </tr>\n",
       "    <tr>\n",
       "      <th>50%</th>\n",
       "      <td>62.000000</td>\n",
       "      <td>430.600000</td>\n",
       "      <td>30.000000</td>\n",
       "      <td>16943.235000</td>\n",
       "      <td>0.000000</td>\n",
       "    </tr>\n",
       "    <tr>\n",
       "      <th>75%</th>\n",
       "      <td>82.000000</td>\n",
       "      <td>571.927500</td>\n",
       "      <td>57.000000</td>\n",
       "      <td>21424.700000</td>\n",
       "      <td>1.000000</td>\n",
       "    </tr>\n",
       "    <tr>\n",
       "      <th>max</th>\n",
       "      <td>244.000000</td>\n",
       "      <td>1632.060000</td>\n",
       "      <td>224.000000</td>\n",
       "      <td>49745.730000</td>\n",
       "      <td>1.000000</td>\n",
       "    </tr>\n",
       "  </tbody>\n",
       "</table>\n",
       "</div>"
      ],
      "text/plain": [
       "             calls      minutes     messages       mb_used     is_ultra\n",
       "count  3214.000000  3214.000000  3214.000000   3214.000000  3214.000000\n",
       "mean     63.038892   438.208787    38.281269  17207.673836     0.306472\n",
       "std      33.236368   234.569872    36.148326   7570.968246     0.461100\n",
       "min       0.000000     0.000000     0.000000      0.000000     0.000000\n",
       "25%      40.000000   274.575000     9.000000  12491.902500     0.000000\n",
       "50%      62.000000   430.600000    30.000000  16943.235000     0.000000\n",
       "75%      82.000000   571.927500    57.000000  21424.700000     1.000000\n",
       "max     244.000000  1632.060000   224.000000  49745.730000     1.000000"
      ]
     },
     "execution_count": 7,
     "metadata": {},
     "output_type": "execute_result"
    }
   ],
   "source": [
    "df.describe()"
   ]
  },
  {
   "cell_type": "markdown",
   "metadata": {},
   "source": [
    "- There are no missing values in the dataset and all the columns are the correct data types. \n",
    "- The zero values in the features should be left as is."
   ]
  },
  {
   "cell_type": "markdown",
   "metadata": {},
   "source": [
    "#### Create data train, validate and test sets"
   ]
  },
  {
   "cell_type": "code",
   "execution_count": 8,
   "metadata": {},
   "outputs": [],
   "source": [
    "# Define features and target\n",
    "features = df.drop('is_ultra', axis=1)\n",
    "target = df['is_ultra']\n"
   ]
  },
  {
   "cell_type": "code",
   "execution_count": 9,
   "metadata": {},
   "outputs": [],
   "source": [
    "# Split the data into 60% train, 40% test/validate\n",
    "features_train, features_test, target_train, target_test = train_test_split(features, target, test_size=0.4, random_state=12345, stratify=target)\n",
    "\n",
    "# Split the test data into 50% test, 50% validate\n",
    "features_validate, features_test, target_validate, target_test = train_test_split(features_test, target_test, test_size=0.5, random_state=12345, stratify=target_test)"
   ]
  },
  {
   "cell_type": "code",
   "execution_count": 10,
   "metadata": {},
   "outputs": [
    {
     "name": "stdout",
     "output_type": "stream",
     "text": [
      "Features Train: (1928, 4)\n",
      "Target Train: (1928,), percent of is_ultra: 0.31.\n",
      "Features Validate: (643, 4)\n",
      "Target Validate: (643,), percent of is_ultra: 0.31\n",
      "Features Test: (643, 4)\n",
      "Target Test: (643,), percent of is_ultra: 0.31\n"
     ]
    }
   ],
   "source": [
    "# Check the shapes\n",
    "print(f'Features Train: {features_train.shape}')\n",
    "print(f'Target Train: {target_train.shape}, percent of is_ultra: {target_train.value_counts(normalize=True)[1]:.2f}.')\n",
    "print(f'Features Validate: {features_validate.shape}')\n",
    "print(f'Target Validate: {target_validate.shape}, percent of is_ultra: {target_validate.value_counts(normalize=True)[1]:.2f}')\n",
    "print(f'Features Test: {features_test.shape}')\n",
    "print(f'Target Test: {target_test.shape}, percent of is_ultra: {target_test.value_counts(normalize=True)[1]:.2f}')"
   ]
  },
  {
   "cell_type": "markdown",
   "metadata": {},
   "source": [
    "**Conclusion**\n",
    "\n",
    "1) The dataset has been split it into 3 ratios: 60:20:20 for train, valid and test sets respectively."
   ]
  },
  {
   "cell_type": "code",
   "execution_count": 11,
   "metadata": {},
   "outputs": [],
   "source": [
    "# Function to plot confusion matrix with score and best parameters\n",
    "def plot_confusion_matrix_with_score(cm, score, model_name, best_params):\n",
    "    # Define labels for each quadrant\n",
    "    group_names = ['True Negative', 'False Positive', 'False Negative', 'True Positive']\n",
    "    group_counts = [\"{0:0.0f}\".format(value) for value in cm.flatten()]\n",
    "    labels = [f\"{v1}\\n{v2}\" for v1, v2 in zip(group_names, group_counts)]\n",
    "    labels = np.asarray(labels).reshape(2, 2)\n",
    "\n",
    "    # Plot the confusion matrix with labels\n",
    "    plt.figure(figsize=(8, 6))\n",
    "    sns.heatmap(cm, annot=labels, fmt='', cmap='Blues', cbar=True, \n",
    "                xticklabels=[\"Predicted Smart (0)\", \"Predicted Ultra (1)\"],\n",
    "                yticklabels=[\"Actual Smart (0)\", \"Actual Ultra (1)\"])\n",
    "    \n",
    "    # Add best parameters to the title\n",
    "    plt.xlabel('Predicted')\n",
    "    plt.ylabel('Actual')\n",
    "    plt.title(f'{model_name} Confusion Matrix\\nAccuracy: {score:.3f}\\nBest Parameters: {best_params}')\n",
    "    plt.show()\n"
   ]
  },
  {
   "cell_type": "code",
   "execution_count": 12,
   "metadata": {},
   "outputs": [],
   "source": [
    "# General model testing function with hyperparameter tuning\n",
    "def tune_and_test_model(param_grid, model_class, features_train, target_train, features_validate, target_validate, random_state=12345):\n",
    "    \"\"\"\n",
    "    Tune hyperparameters for a machine learning model and test it on validation data.\n",
    "    \"\"\"\n",
    "    # Initialize the model\n",
    "    model = model_class(random_state=random_state)\n",
    "    \n",
    "    # Use GridSearchCV to tune hyperparameters\n",
    "    grid_search = GridSearchCV(estimator=model, param_grid=param_grid, cv=5, n_jobs=-1, verbose=2)\n",
    "    \n",
    "    # Fit the grid search model on training + validation data\n",
    "    grid_search.fit(pd.concat([features_train, features_validate]), pd.concat([target_train, target_validate]))\n",
    "    \n",
    "    # Get the best model and parameters\n",
    "    best_model = grid_search.best_estimator_\n",
    "    best_params = grid_search.best_params_\n",
    "    print(f'Best parameters for {model_class.__name__}: {best_params}')\n",
    "    \n",
    "    # Return the best model and the parameters\n",
    "    return best_model, best_params\n"
   ]
  },
  {
   "cell_type": "code",
   "execution_count": 13,
   "metadata": {},
   "outputs": [],
   "source": [
    "# Function to evaluate the best model on the test data\n",
    "def evaluate_model_on_test(model, features_test, target_test, best_params):\n",
    "    \"\"\"\n",
    "    Test the best model on the test data and return the test score and confusion matrix.\n",
    "    \"\"\"\n",
    "    # Test the model on the test data\n",
    "    test_score = model.score(features_test, target_test)\n",
    "    print(f'{model.__class__.__name__} Test Score: {test_score:.3f}')\n",
    "    \n",
    "    # Get predictions for confusion matrix\n",
    "    predictions = model.predict(features_test)\n",
    "    \n",
    "    # Get the confusion matrix\n",
    "    cm = confusion_matrix(target_test, predictions)\n",
    "    \n",
    "    # Plot the confusion matrix with labels, score, and best parameters\n",
    "    plot_confusion_matrix_with_score(cm, test_score, model.__class__.__name__, best_params)\n",
    "    \n",
    "    return test_score"
   ]
  },
  {
   "cell_type": "code",
   "execution_count": 14,
   "metadata": {},
   "outputs": [
    {
     "name": "stdout",
     "output_type": "stream",
     "text": [
      "\n",
      "Tuning and Testing Decision Tree Classifier:\n",
      "Fitting 5 folds for each of 9 candidates, totalling 45 fits\n",
      "[CV] END ...................max_depth=5, min_samples_split=2; total time=   0.0s\n",
      "[CV] END ...................max_depth=5, min_samples_split=2; total time=   0.0s\n",
      "[CV] END ...................max_depth=5, min_samples_split=2; total time=   0.0s\n",
      "[CV] END ...................max_depth=5, min_samples_split=2; total time=   0.0s\n",
      "[CV] END ...................max_depth=5, min_samples_split=2; total time=   0.0s\n",
      "[CV] END ...................max_depth=5, min_samples_split=5; total time=   0.0s\n",
      "[CV] END ...................max_depth=5, min_samples_split=5; total time=   0.0s\n",
      "[CV] END ...................max_depth=5, min_samples_split=5; total time=   0.0s\n",
      "[CV] END ...................max_depth=5, min_samples_split=5; total time=   0.0s\n",
      "[CV] END ...................max_depth=5, min_samples_split=5; total time=   0.0s\n",
      "[CV] END ..................max_depth=5, min_samples_split=10; total time=   0.0s\n",
      "[CV] END ..................max_depth=5, min_samples_split=10; total time=   0.0s\n",
      "[CV] END ..................max_depth=5, min_samples_split=10; total time=   0.0s\n",
      "[CV] END ..................max_depth=5, min_samples_split=10; total time=   0.0s\n",
      "[CV] END ..................max_depth=5, min_samples_split=10; total time=   0.0s\n",
      "[CV] END ..................max_depth=10, min_samples_split=2; total time=   0.0s\n",
      "[CV] END ..................max_depth=10, min_samples_split=2; total time=   0.0s\n",
      "[CV] END ..................max_depth=10, min_samples_split=2; total time=   0.0s\n",
      "[CV] END ..................max_depth=10, min_samples_split=2; total time=   0.0s\n",
      "[CV] END ..................max_depth=10, min_samples_split=2; total time=   0.0s\n",
      "[CV] END ..................max_depth=10, min_samples_split=5; total time=   0.0s\n",
      "[CV] END ..................max_depth=10, min_samples_split=5; total time=   0.0s\n",
      "[CV] END ..................max_depth=10, min_samples_split=5; total time=   0.0s\n",
      "[CV] END ..................max_depth=10, min_samples_split=5; total time=   0.0s\n",
      "[CV] END ..................max_depth=10, min_samples_split=5; total time=   0.0s\n",
      "[CV] END .................max_depth=10, min_samples_split=10; total time=   0.0s\n",
      "[CV] END .................max_depth=10, min_samples_split=10; total time=   0.0s\n",
      "[CV] END .................max_depth=10, min_samples_split=10; total time=   0.0s\n",
      "[CV] END .................max_depth=10, min_samples_split=10; total time=   0.0s\n",
      "[CV] END .................max_depth=10, min_samples_split=10; total time=   0.0s\n",
      "[CV] END ..................max_depth=15, min_samples_split=2; total time=   0.0s\n",
      "[CV] END ..................max_depth=15, min_samples_split=2; total time=   0.0s\n",
      "[CV] END ..................max_depth=15, min_samples_split=2; total time=   0.0s\n",
      "[CV] END ..................max_depth=15, min_samples_split=2; total time=   0.0s\n",
      "[CV] END ..................max_depth=15, min_samples_split=2; total time=   0.0s\n",
      "[CV] END ..................max_depth=15, min_samples_split=5; total time=   0.0s\n",
      "[CV] END ..................max_depth=15, min_samples_split=5; total time=   0.0s\n",
      "[CV] END ..................max_depth=15, min_samples_split=5; total time=   0.0s\n",
      "[CV] END ..................max_depth=15, min_samples_split=5; total time=   0.0s\n",
      "[CV] END ..................max_depth=15, min_samples_split=5; total time=   0.0s\n",
      "[CV] END .................max_depth=15, min_samples_split=10; total time=   0.0s\n",
      "[CV] END .................max_depth=15, min_samples_split=10; total time=   0.0s\n",
      "[CV] END .................max_depth=15, min_samples_split=10; total time=   0.0s\n",
      "[CV] END .................max_depth=15, min_samples_split=10; total time=   0.0s\n",
      "[CV] END .................max_depth=15, min_samples_split=10; total time=   0.0s\n",
      "Best parameters for DecisionTreeClassifier: {'max_depth': 5, 'min_samples_split': 2}\n",
      "\n",
      "Tuning and Testing Random Forest Classifier:\n",
      "Fitting 5 folds for each of 12 candidates, totalling 60 fits\n",
      "[CV] END max_depth=10, min_samples_split=2, n_estimators=100; total time=   0.3s\n",
      "[CV] END max_depth=10, min_samples_split=2, n_estimators=100; total time=   0.3s\n",
      "[CV] END max_depth=10, min_samples_split=2, n_estimators=100; total time=   0.3s\n",
      "[CV] END max_depth=10, min_samples_split=2, n_estimators=100; total time=   0.3s\n",
      "[CV] END max_depth=10, min_samples_split=2, n_estimators=100; total time=   0.3s\n",
      "[CV] END max_depth=10, min_samples_split=2, n_estimators=200; total time=   0.5s\n",
      "[CV] END max_depth=10, min_samples_split=2, n_estimators=200; total time=   0.5s\n",
      "[CV] END max_depth=10, min_samples_split=2, n_estimators=200; total time=   0.5s\n",
      "[CV] END max_depth=10, min_samples_split=2, n_estimators=200; total time=   0.5s\n",
      "[CV] END max_depth=10, min_samples_split=2, n_estimators=200; total time=   0.5s\n",
      "[CV] END max_depth=10, min_samples_split=5, n_estimators=100; total time=   0.3s\n",
      "[CV] END max_depth=10, min_samples_split=5, n_estimators=100; total time=   0.3s\n",
      "[CV] END max_depth=10, min_samples_split=5, n_estimators=100; total time=   0.3s\n",
      "[CV] END max_depth=10, min_samples_split=5, n_estimators=100; total time=   0.3s\n",
      "[CV] END max_depth=10, min_samples_split=5, n_estimators=100; total time=   0.3s\n",
      "[CV] END max_depth=10, min_samples_split=5, n_estimators=200; total time=   0.5s\n",
      "[CV] END max_depth=10, min_samples_split=5, n_estimators=200; total time=   0.5s\n",
      "[CV] END max_depth=10, min_samples_split=5, n_estimators=200; total time=   0.5s\n",
      "[CV] END max_depth=10, min_samples_split=5, n_estimators=200; total time=   0.5s\n",
      "[CV] END max_depth=10, min_samples_split=5, n_estimators=200; total time=   0.5s\n",
      "[CV] END max_depth=15, min_samples_split=2, n_estimators=100; total time=   0.3s\n",
      "[CV] END max_depth=15, min_samples_split=2, n_estimators=100; total time=   0.3s\n",
      "[CV] END max_depth=15, min_samples_split=2, n_estimators=100; total time=   0.3s\n",
      "[CV] END max_depth=15, min_samples_split=2, n_estimators=100; total time=   0.3s\n",
      "[CV] END max_depth=15, min_samples_split=2, n_estimators=100; total time=   0.3s\n",
      "[CV] END max_depth=15, min_samples_split=2, n_estimators=200; total time=   0.6s\n",
      "[CV] END max_depth=15, min_samples_split=2, n_estimators=200; total time=   0.6s\n",
      "[CV] END max_depth=15, min_samples_split=2, n_estimators=200; total time=   0.6s\n",
      "[CV] END max_depth=15, min_samples_split=2, n_estimators=200; total time=   0.6s\n",
      "[CV] END max_depth=15, min_samples_split=2, n_estimators=200; total time=   0.6s\n",
      "[CV] END max_depth=15, min_samples_split=5, n_estimators=100; total time=   0.3s\n",
      "[CV] END max_depth=15, min_samples_split=5, n_estimators=100; total time=   0.3s\n",
      "[CV] END max_depth=15, min_samples_split=5, n_estimators=100; total time=   0.3s\n",
      "[CV] END max_depth=15, min_samples_split=5, n_estimators=100; total time=   0.3s\n",
      "[CV] END max_depth=15, min_samples_split=5, n_estimators=100; total time=   0.3s\n",
      "[CV] END max_depth=15, min_samples_split=5, n_estimators=200; total time=   0.6s\n",
      "[CV] END max_depth=15, min_samples_split=5, n_estimators=200; total time=   0.6s\n",
      "[CV] END max_depth=15, min_samples_split=5, n_estimators=200; total time=   0.6s\n",
      "[CV] END max_depth=15, min_samples_split=5, n_estimators=200; total time=   0.6s\n",
      "[CV] END max_depth=15, min_samples_split=5, n_estimators=200; total time=   0.6s\n",
      "[CV] END max_depth=20, min_samples_split=2, n_estimators=100; total time=   0.3s\n",
      "[CV] END max_depth=20, min_samples_split=2, n_estimators=100; total time=   0.3s\n",
      "[CV] END max_depth=20, min_samples_split=2, n_estimators=100; total time=   0.3s\n",
      "[CV] END max_depth=20, min_samples_split=2, n_estimators=100; total time=   0.3s\n",
      "[CV] END max_depth=20, min_samples_split=2, n_estimators=100; total time=   0.3s\n",
      "[CV] END max_depth=20, min_samples_split=2, n_estimators=200; total time=   0.6s\n",
      "[CV] END max_depth=20, min_samples_split=2, n_estimators=200; total time=   0.6s\n",
      "[CV] END max_depth=20, min_samples_split=2, n_estimators=200; total time=   0.6s\n",
      "[CV] END max_depth=20, min_samples_split=2, n_estimators=200; total time=   0.6s\n",
      "[CV] END max_depth=20, min_samples_split=2, n_estimators=200; total time=   0.6s\n",
      "[CV] END max_depth=20, min_samples_split=5, n_estimators=100; total time=   0.3s\n",
      "[CV] END max_depth=20, min_samples_split=5, n_estimators=100; total time=   0.3s\n",
      "[CV] END max_depth=20, min_samples_split=5, n_estimators=100; total time=   0.3s\n"
     ]
    },
    {
     "name": "stdout",
     "output_type": "stream",
     "text": [
      "[CV] END max_depth=20, min_samples_split=5, n_estimators=100; total time=   0.3s\n",
      "[CV] END max_depth=20, min_samples_split=5, n_estimators=100; total time=   0.3s\n",
      "[CV] END max_depth=20, min_samples_split=5, n_estimators=200; total time=   0.6s\n",
      "[CV] END max_depth=20, min_samples_split=5, n_estimators=200; total time=   0.6s\n",
      "[CV] END max_depth=20, min_samples_split=5, n_estimators=200; total time=   0.7s\n",
      "[CV] END max_depth=20, min_samples_split=5, n_estimators=200; total time=   0.6s\n",
      "[CV] END max_depth=20, min_samples_split=5, n_estimators=200; total time=   0.6s\n",
      "Best parameters for RandomForestClassifier: {'max_depth': 10, 'min_samples_split': 5, 'n_estimators': 100}\n",
      "\n",
      "Tuning and Testing Logistic Regression Classifier:\n",
      "Fitting 5 folds for each of 16 candidates, totalling 80 fits\n",
      "[CV] END .................C=0.01, max_iter=100, solver=lbfgs; total time=   0.0s\n",
      "[CV] END .................C=0.01, max_iter=100, solver=lbfgs; total time=   0.0s\n",
      "[CV] END .................C=0.01, max_iter=100, solver=lbfgs; total time=   0.0s\n",
      "[CV] END .................C=0.01, max_iter=100, solver=lbfgs; total time=   0.0s\n",
      "[CV] END .................C=0.01, max_iter=100, solver=lbfgs; total time=   0.0s\n",
      "[CV] END .............C=0.01, max_iter=100, solver=liblinear; total time=   0.0s\n",
      "[CV] END .............C=0.01, max_iter=100, solver=liblinear; total time=   0.0s\n",
      "[CV] END .............C=0.01, max_iter=100, solver=liblinear; total time=   0.0s\n",
      "[CV] END .............C=0.01, max_iter=100, solver=liblinear; total time=   0.0s\n",
      "[CV] END .............C=0.01, max_iter=100, solver=liblinear; total time=   0.0s\n",
      "[CV] END .................C=0.01, max_iter=500, solver=lbfgs; total time=   0.0s\n",
      "[CV] END .................C=0.01, max_iter=500, solver=lbfgs; total time=   0.0s\n",
      "[CV] END .................C=0.01, max_iter=500, solver=lbfgs; total time=   0.0s\n",
      "[CV] END .................C=0.01, max_iter=500, solver=lbfgs; total time=   0.0s\n",
      "[CV] END .................C=0.01, max_iter=500, solver=lbfgs; total time=   0.0s\n",
      "[CV] END .............C=0.01, max_iter=500, solver=liblinear; total time=   0.0s\n",
      "[CV] END .............C=0.01, max_iter=500, solver=liblinear; total time=   0.0s\n",
      "[CV] END .............C=0.01, max_iter=500, solver=liblinear; total time=   0.0s\n",
      "[CV] END .............C=0.01, max_iter=500, solver=liblinear; total time=   0.0s\n",
      "[CV] END .............C=0.01, max_iter=500, solver=liblinear; total time=   0.0s\n",
      "[CV] END ..................C=0.1, max_iter=100, solver=lbfgs; total time=   0.0s\n",
      "[CV] END ..................C=0.1, max_iter=100, solver=lbfgs; total time=   0.0s\n",
      "[CV] END ..................C=0.1, max_iter=100, solver=lbfgs; total time=   0.0s\n",
      "[CV] END ..................C=0.1, max_iter=100, solver=lbfgs; total time=   0.0s\n",
      "[CV] END ..................C=0.1, max_iter=100, solver=lbfgs; total time=   0.0s\n",
      "[CV] END ..............C=0.1, max_iter=100, solver=liblinear; total time=   0.0s\n",
      "[CV] END ..............C=0.1, max_iter=100, solver=liblinear; total time=   0.0s\n",
      "[CV] END ..............C=0.1, max_iter=100, solver=liblinear; total time=   0.0s\n",
      "[CV] END ..............C=0.1, max_iter=100, solver=liblinear; total time=   0.0s\n",
      "[CV] END ..............C=0.1, max_iter=100, solver=liblinear; total time=   0.0s\n",
      "[CV] END ..................C=0.1, max_iter=500, solver=lbfgs; total time=   0.0s\n",
      "[CV] END ..................C=0.1, max_iter=500, solver=lbfgs; total time=   0.0s\n",
      "[CV] END ..................C=0.1, max_iter=500, solver=lbfgs; total time=   0.0s\n",
      "[CV] END ..................C=0.1, max_iter=500, solver=lbfgs; total time=   0.0s\n",
      "[CV] END ..................C=0.1, max_iter=500, solver=lbfgs; total time=   0.0s\n",
      "[CV] END ..............C=0.1, max_iter=500, solver=liblinear; total time=   0.0s\n",
      "[CV] END ..............C=0.1, max_iter=500, solver=liblinear; total time=   0.0s\n",
      "[CV] END ..............C=0.1, max_iter=500, solver=liblinear; total time=   0.0s\n",
      "[CV] END ..............C=0.1, max_iter=500, solver=liblinear; total time=   0.0s\n",
      "[CV] END ..............C=0.1, max_iter=500, solver=liblinear; total time=   0.0s\n",
      "[CV] END ....................C=1, max_iter=100, solver=lbfgs; total time=   0.0s\n",
      "[CV] END ....................C=1, max_iter=100, solver=lbfgs; total time=   0.0s\n",
      "[CV] END ....................C=1, max_iter=100, solver=lbfgs; total time=   0.0s\n",
      "[CV] END ....................C=1, max_iter=100, solver=lbfgs; total time=   0.0s\n",
      "[CV] END ....................C=1, max_iter=100, solver=lbfgs; total time=   0.0s\n",
      "[CV] END ................C=1, max_iter=100, solver=liblinear; total time=   0.0s\n",
      "[CV] END ................C=1, max_iter=100, solver=liblinear; total time=   0.0s\n",
      "[CV] END ................C=1, max_iter=100, solver=liblinear; total time=   0.0s\n",
      "[CV] END ................C=1, max_iter=100, solver=liblinear; total time=   0.0s\n",
      "[CV] END ................C=1, max_iter=100, solver=liblinear; total time=   0.0s\n",
      "[CV] END ....................C=1, max_iter=500, solver=lbfgs; total time=   0.0s\n",
      "[CV] END ....................C=1, max_iter=500, solver=lbfgs; total time=   0.0s\n",
      "[CV] END ....................C=1, max_iter=500, solver=lbfgs; total time=   0.0s\n",
      "[CV] END ....................C=1, max_iter=500, solver=lbfgs; total time=   0.0s\n",
      "[CV] END ....................C=1, max_iter=500, solver=lbfgs; total time=   0.0s\n",
      "[CV] END ................C=1, max_iter=500, solver=liblinear; total time=   0.0s\n",
      "[CV] END ................C=1, max_iter=500, solver=liblinear; total time=   0.0s\n",
      "[CV] END ................C=1, max_iter=500, solver=liblinear; total time=   0.0s\n",
      "[CV] END ................C=1, max_iter=500, solver=liblinear; total time=   0.0s\n",
      "[CV] END ................C=1, max_iter=500, solver=liblinear; total time=   0.0s\n",
      "[CV] END ...................C=10, max_iter=100, solver=lbfgs; total time=   0.0s\n",
      "[CV] END ...................C=10, max_iter=100, solver=lbfgs; total time=   0.0s\n",
      "[CV] END ...................C=10, max_iter=100, solver=lbfgs; total time=   0.0s\n",
      "[CV] END ...................C=10, max_iter=100, solver=lbfgs; total time=   0.0s\n",
      "[CV] END ...................C=10, max_iter=100, solver=lbfgs; total time=   0.0s\n",
      "[CV] END ...............C=10, max_iter=100, solver=liblinear; total time=   0.0s\n",
      "[CV] END ...............C=10, max_iter=100, solver=liblinear; total time=   0.0s\n",
      "[CV] END ...............C=10, max_iter=100, solver=liblinear; total time=   0.0s\n",
      "[CV] END ...............C=10, max_iter=100, solver=liblinear; total time=   0.0s\n",
      "[CV] END ...............C=10, max_iter=100, solver=liblinear; total time=   0.0s\n",
      "[CV] END ...................C=10, max_iter=500, solver=lbfgs; total time=   0.0s\n",
      "[CV] END ...................C=10, max_iter=500, solver=lbfgs; total time=   0.0s\n",
      "[CV] END ...................C=10, max_iter=500, solver=lbfgs; total time=   0.0s\n",
      "[CV] END ...................C=10, max_iter=500, solver=lbfgs; total time=   0.0s\n",
      "[CV] END ...................C=10, max_iter=500, solver=lbfgs; total time=   0.0s\n",
      "[CV] END ...............C=10, max_iter=500, solver=liblinear; total time=   0.0s\n",
      "[CV] END ...............C=10, max_iter=500, solver=liblinear; total time=   0.0s\n",
      "[CV] END ...............C=10, max_iter=500, solver=liblinear; total time=   0.0s\n",
      "[CV] END ...............C=10, max_iter=500, solver=liblinear; total time=   0.0s\n",
      "[CV] END ...............C=10, max_iter=500, solver=liblinear; total time=   0.0s\n",
      "Best parameters for LogisticRegression: {'C': 0.1, 'max_iter': 100, 'solver': 'lbfgs'}\n"
     ]
    }
   ],
   "source": [
    "# Define hyperparameter grids for each model\n",
    "param_grid_tree = {'max_depth': [5, 10, 15], 'min_samples_split': [2, 5, 10]}\n",
    "param_grid_forest = {'n_estimators': [100, 200], 'max_depth': [10, 15, 20], 'min_samples_split': [2, 5]}\n",
    "param_grid_logreg = {'C': [0.01, 0.1, 1, 10], 'solver': ['lbfgs', 'liblinear'], 'max_iter': [100, 500]}\n",
    "\n",
    "# Tune and test Decision Tree\n",
    "print(\"\\nTuning and Testing Decision Tree Classifier:\")\n",
    "best_tree_model, best_tree_params = tune_and_test_model(param_grid_tree, DecisionTreeClassifier, features_train, target_train, features_validate, target_validate)\n",
    "\n",
    "# Tune and test Random Forest\n",
    "print(\"\\nTuning and Testing Random Forest Classifier:\")\n",
    "best_forest_model, best_forest_params = tune_and_test_model(param_grid_forest, RandomForestClassifier, features_train, target_train, features_validate, target_validate)\n",
    "\n",
    "# Tune and test Logistic Regression\n",
    "print(\"\\nTuning and Testing Logistic Regression Classifier:\")\n",
    "best_logreg_model, best_logreg_params = tune_and_test_model(param_grid_logreg, LogisticRegression, features_train, target_train, features_validate, target_validate)\n"
   ]
  },
  {
   "cell_type": "code",
   "execution_count": 15,
   "metadata": {},
   "outputs": [
    {
     "name": "stdout",
     "output_type": "stream",
     "text": [
      "\n",
      "Evaluating the Best Decision Tree on Validation Data:\n",
      "DecisionTreeClassifier Test Score: 0.826\n"
     ]
    },
    {
     "data": {
      "image/png": "[encoded data removed]",
      "text/plain": [
       "<Figure size 800x600 with 2 Axes>"
      ]
     },
     "metadata": {},
     "output_type": "display_data"
    }
   ],
   "source": [
    "# Evaluate models on the validation set to select the best one\n",
    "print(\"\\nEvaluating the Best Decision Tree on Validation Data:\")\n",
    "tree_val_score = evaluate_model_on_test(best_tree_model, features_validate, target_validate, best_tree_params)\n"
   ]
  },
  {
   "cell_type": "code",
   "execution_count": 16,
   "metadata": {},
   "outputs": [
    {
     "name": "stdout",
     "output_type": "stream",
     "text": [
      "\n",
      "Evaluating the Best Random Forest on Validation Data:\n",
      "RandomForestClassifier Test Score: 0.883\n"
     ]
    },
    {
     "data": {
      "image/png": "[encoded data removed]",
      "text/plain": [
       "<Figure size 800x600 with 2 Axes>"
      ]
     },
     "metadata": {},
     "output_type": "display_data"
    }
   ],
   "source": [
    "print(\"\\nEvaluating the Best Random Forest on Validation Data:\")\n",
    "forest_val_score = evaluate_model_on_test(best_forest_model, features_validate, target_validate, best_forest_params)\n",
    "\n"
   ]
  },
  {
   "cell_type": "code",
   "execution_count": 17,
   "metadata": {},
   "outputs": [
    {
     "name": "stdout",
     "output_type": "stream",
     "text": [
      "\n",
      "Evaluating the Best Logistic Regression on Validation Data:\n",
      "LogisticRegression Test Score: 0.742\n"
     ]
    },
    {
     "data": {
      "image/png": "[encoded data removed]",
      "text/plain": [
       "<Figure size 800x600 with 2 Axes>"
      ]
     },
     "metadata": {},
     "output_type": "display_data"
    }
   ],
   "source": [
    "print(\"\\nEvaluating the Best Logistic Regression on Validation Data:\")\n",
    "logreg_val_score = evaluate_model_on_test(best_logreg_model, features_validate, target_validate, best_logreg_params)\n"
   ]
  },
  {
   "cell_type": "markdown",
   "metadata": {},
   "source": [
    "#### Best Model is the RandomForrestClassifier"
   ]
  },
  {
   "cell_type": "code",
   "execution_count": 18,
   "metadata": {},
   "outputs": [
    {
     "name": "stdout",
     "output_type": "stream",
     "text": [
      "\n",
      "The best model on the validation set is: Random Forest with a validation accuracy of 0.883\n",
      "\n",
      "Evaluating the selected best model (Random Forest) on the test data:\n",
      "RandomForestClassifier Test Score: 0.827\n"
     ]
    },
    {
     "data": {
      "image/png": "[encoded data removed]",
      "text/plain": [
       "<Figure size 800x600 with 2 Axes>"
      ]
     },
     "metadata": {},
     "output_type": "display_data"
    },
    {
     "name": "stdout",
     "output_type": "stream",
     "text": [
      "\n",
      "The best model is: Random Forest with a test accuracy of 0.827\n"
     ]
    }
   ],
   "source": [
    "# Compare the validation scores and choose the best model based on validation data\n",
    "model_scores = {\n",
    "    'Decision Tree': tree_val_score,\n",
    "    'Random Forest': forest_val_score,\n",
    "    'Logistic Regression': logreg_val_score\n",
    "}\n",
    "\n",
    "# Select the best model based on validation performance\n",
    "best_model_name = max(model_scores, key=model_scores.get)\n",
    "best_model_score = model_scores[best_model_name]\n",
    "\n",
    "# Print the best model from the validation data\n",
    "print(f\"\\nThe best model on the validation set is: {best_model_name} with a validation accuracy of {best_model_score:.3f}\")\n",
    "\n",
    "# Evaluate the best model on the test data (only once)\n",
    "if best_model_name == 'Decision Tree':\n",
    "    best_model = best_tree_model\n",
    "    best_params = best_tree_params\n",
    "elif best_model_name == 'Random Forest':\n",
    "    best_model = best_forest_model\n",
    "    best_params = best_forest_params\n",
    "else:\n",
    "    best_model = best_logreg_model\n",
    "    best_params = best_logreg_params\n",
    "\n",
    "# Evaluate the best model on the test set\n",
    "print(f\"\\nEvaluating the selected best model ({best_model_name}) on the test data:\")\n",
    "best_model_test_score = evaluate_model_on_test(best_model, features_test, target_test, best_params)\n",
    "\n",
    "# Print the final result\n",
    "print(f\"\\nThe best model is: {best_model_name} with a test accuracy of {best_model_test_score:.3f}\")\n"
   ]
  },
  {
   "cell_type": "markdown",
   "metadata": {},
   "source": [
    "- Updated my code to added hyperparameters to all model testing.\n",
    "- Model are now testing validation data and the best model selected is now testing the test data."
   ]
  },
  {
   "cell_type": "markdown",
   "metadata": {},
   "source": [
    "#### Sanity Check"
   ]
  },
  {
   "cell_type": "code",
   "execution_count": 21,
   "metadata": {},
   "outputs": [
    {
     "name": "stdout",
     "output_type": "stream",
     "text": [
      "Training + Validation Target Distribution:\n",
      "0    0.693504\n",
      "1    0.306496\n",
      "Name: is_ultra, dtype: float64\n",
      "Test Target Distribution:\n",
      "0    0.693624\n",
      "1    0.306376\n",
      "Name: is_ultra, dtype: float64\n",
      "Train + Validate Score: 0.876\n"
     ]
    }
   ],
   "source": [
    "# Check distribution of target variable in train + validate and test sets\n",
    "print(\"Training + Validation Target Distribution:\")\n",
    "print(pd.concat([target_train, target_validate]).value_counts(normalize=True))\n",
    "print(\"Test Target Distribution:\")\n",
    "print(target_test.value_counts(normalize=True))\n",
    "\n",
    "# Compare model performance on train + validate vs test set\n",
    "train_validate_score = best_model.score(pd.concat([features_train, features_validate]), pd.concat([target_train, target_validate]))\n",
    "print(f'Train + Validate Score: {train_validate_score:.3f}')\n"
   ]
  },
  {
   "cell_type": "markdown",
   "metadata": {},
   "source": [
    "- The target distributions in the training + validation set and the test set are very similar. This indicates that the class distribution is consistent across these datasets, which is good because it means your model is being tested on data that is representative of the training data.\n",
    "\n",
    "- The score of 0.876 (or 87.6%) represents the accuracy of your model when evaluated on the combined training and validation dataset.\n",
    "- This score is relatively high, indicating that the model performs well on the data it was trained and validated on."
   ]
  },
  {
   "cell_type": "code",
   "execution_count": 23,
   "metadata": {},
   "outputs": [
    {
     "name": "stdout",
     "output_type": "stream",
     "text": [
      "Classification Report:\n",
      "               precision    recall  f1-score   support\n",
      "\n",
      "   Smart (0)       0.83      0.94      0.88       446\n",
      "   Ultra (1)       0.82      0.56      0.67       197\n",
      "\n",
      "    accuracy                           0.83       643\n",
      "   macro avg       0.82      0.75      0.78       643\n",
      "weighted avg       0.83      0.83      0.82       643\n",
      "\n"
     ]
    }
   ],
   "source": [
    "predictions = best_model.predict(features_test)\n",
    "\n",
    "# Generate the classification report\n",
    "report = classification_report(target_test, predictions, target_names=[\"Smart (0)\", \"Ultra (1)\"])\n",
    "print(\"Classification Report:\\n\", report)\n"
   ]
  },
  {
   "cell_type": "markdown",
   "metadata": {},
   "source": [
    "#### Observation\n",
    "\n",
    "- The model performs well for the Smart (0) class with high precision (83%) and recall (94%). This means it's good at identifying Smart users and has a low false negative rate for this class.\n",
    "\n",
    "- For the Ultra (1) class, the model has lower recall (56%) compared to precision (82%). This indicates that while the model is relatively good at identifying Ultra users when it makes a prediction, it misses a significant portion of them.\n",
    "\n",
    "- The model achieves an overall accuracy of 83%, which is good. However, the lower recall for Ultra (1) suggests that the model might not be performing as well in identifying all instances of the Ultra class."
   ]
  },
  {
   "cell_type": "markdown",
   "metadata": {},
   "source": [
    "### Conclusion\n",
    "\n",
    "- The best model is the RandomForrestClassifier with an accuracy of 83%.\n",
    "- Best Param {'n_estimators': 100, 'max_depth': 10, 'min_samples_split': 5}"
   ]
  },
  {
   "cell_type": "code",
   "execution_count": 25,
   "metadata": {},
   "outputs": [
    {
     "data": {
      "text/plain": [
       "['random_forest_model.joblib']"
      ]
     },
     "execution_count": 25,
     "metadata": {},
     "output_type": "execute_result"
    }
   ],
   "source": [
    "joblib.dump(best_model, 'random_forest_model.joblib')"
   ]
  }
 ],
 "metadata": {
  "ExecuteTimeLog": [
   {
    "duration": 3397,
    "start_time": "2024-09-17T13:44:30.827Z"
   },
   {
    "duration": 29,
    "start_time": "2024-09-17T13:46:00.525Z"
   },
   {
    "duration": 164,
    "start_time": "2024-09-17T13:47:00.843Z"
   },
   {
    "duration": 16,
    "start_time": "2024-09-17T13:47:16.735Z"
   },
   {
    "duration": 127,
    "start_time": "2024-09-17T13:47:34.897Z"
   },
   {
    "duration": 4,
    "start_time": "2024-09-17T13:47:47.900Z"
   },
   {
    "duration": 18,
    "start_time": "2024-09-17T13:47:48.653Z"
   },
   {
    "duration": 15,
    "start_time": "2024-09-17T13:47:50.277Z"
   },
   {
    "duration": 8,
    "start_time": "2024-09-17T13:48:03.032Z"
   },
   {
    "duration": 6,
    "start_time": "2024-09-17T13:48:31.640Z"
   },
   {
    "duration": 13,
    "start_time": "2024-09-17T13:48:43.915Z"
   },
   {
    "duration": 11,
    "start_time": "2024-09-17T13:48:52.358Z"
   },
   {
    "duration": 157,
    "start_time": "2024-09-18T03:32:16.651Z"
   },
   {
    "duration": 2815,
    "start_time": "2024-09-18T03:32:24.037Z"
   },
   {
    "duration": 23,
    "start_time": "2024-09-18T03:32:26.855Z"
   },
   {
    "duration": 7,
    "start_time": "2024-09-18T03:32:26.880Z"
   },
   {
    "duration": 5,
    "start_time": "2024-09-18T03:32:26.892Z"
   },
   {
    "duration": 17,
    "start_time": "2024-09-18T03:32:26.899Z"
   },
   {
    "duration": 17,
    "start_time": "2024-09-18T03:32:26.917Z"
   },
   {
    "duration": 3,
    "start_time": "2024-09-18T03:34:34.832Z"
   },
   {
    "duration": 138,
    "start_time": "2024-09-18T03:38:27.345Z"
   },
   {
    "duration": 4,
    "start_time": "2024-09-18T03:38:33.605Z"
   },
   {
    "duration": 4,
    "start_time": "2024-09-18T03:40:21.867Z"
   },
   {
    "duration": 7,
    "start_time": "2024-09-18T03:40:22.298Z"
   },
   {
    "duration": 13,
    "start_time": "2024-09-18T03:41:07.600Z"
   },
   {
    "duration": 22,
    "start_time": "2024-09-18T03:59:47.392Z"
   },
   {
    "duration": 3,
    "start_time": "2024-09-18T04:00:34.697Z"
   },
   {
    "duration": 15,
    "start_time": "2024-09-18T04:00:35.066Z"
   },
   {
    "duration": 7,
    "start_time": "2024-09-18T04:00:35.630Z"
   },
   {
    "duration": 5,
    "start_time": "2024-09-18T04:00:35.786Z"
   },
   {
    "duration": 10,
    "start_time": "2024-09-18T04:00:35.952Z"
   },
   {
    "duration": 20,
    "start_time": "2024-09-18T04:00:36.137Z"
   },
   {
    "duration": 5,
    "start_time": "2024-09-18T04:00:37.090Z"
   },
   {
    "duration": 8,
    "start_time": "2024-09-18T04:00:37.324Z"
   },
   {
    "duration": 5,
    "start_time": "2024-09-18T04:00:37.500Z"
   },
   {
    "duration": 607,
    "start_time": "2024-09-18T04:00:38.574Z"
   },
   {
    "duration": 4,
    "start_time": "2024-09-18T04:05:01.182Z"
   },
   {
    "duration": 600,
    "start_time": "2024-09-18T04:05:02.977Z"
   },
   {
    "duration": 557,
    "start_time": "2024-09-18T04:05:30.376Z"
   },
   {
    "duration": 495,
    "start_time": "2024-09-18T04:09:00.006Z"
   },
   {
    "duration": 482,
    "start_time": "2024-09-18T04:10:33.665Z"
   },
   {
    "duration": 5,
    "start_time": "2024-09-18T04:10:45.592Z"
   },
   {
    "duration": 482,
    "start_time": "2024-09-18T04:10:46.267Z"
   },
   {
    "duration": 654,
    "start_time": "2024-09-18T04:10:46.839Z"
   },
   {
    "duration": 986,
    "start_time": "2024-09-18T04:18:59.039Z"
   },
   {
    "duration": 162,
    "start_time": "2024-09-18T04:20:18.212Z"
   },
   {
    "duration": 5,
    "start_time": "2024-09-18T04:22:18.252Z"
   },
   {
    "duration": 308,
    "start_time": "2024-09-18T04:22:20.156Z"
   },
   {
    "duration": 722,
    "start_time": "2024-09-18T04:22:23.552Z"
   },
   {
    "duration": 5,
    "start_time": "2024-09-18T04:25:47.985Z"
   },
   {
    "duration": 387,
    "start_time": "2024-09-18T04:25:48.841Z"
   },
   {
    "duration": 758,
    "start_time": "2024-09-18T04:25:51.508Z"
   },
   {
    "duration": 495,
    "start_time": "2024-09-18T04:26:17.775Z"
   },
   {
    "duration": 277,
    "start_time": "2024-09-18T04:26:52.691Z"
   },
   {
    "duration": 271,
    "start_time": "2024-09-18T04:28:58.506Z"
   },
   {
    "duration": 4,
    "start_time": "2024-09-18T04:29:16.372Z"
   },
   {
    "duration": 160,
    "start_time": "2024-09-18T04:29:35.413Z"
   },
   {
    "duration": 158,
    "start_time": "2024-09-18T04:30:20.439Z"
   },
   {
    "duration": 474,
    "start_time": "2024-09-18T04:32:57.995Z"
   },
   {
    "duration": 263,
    "start_time": "2024-09-18T04:33:11.772Z"
   },
   {
    "duration": 5,
    "start_time": "2024-09-18T04:38:21.480Z"
   },
   {
    "duration": 4,
    "start_time": "2024-09-18T04:38:21.952Z"
   },
   {
    "duration": 38,
    "start_time": "2024-09-18T04:38:22.533Z"
   },
   {
    "duration": 5,
    "start_time": "2024-09-18T04:38:47.933Z"
   },
   {
    "duration": 167,
    "start_time": "2024-09-18T04:38:48.869Z"
   },
   {
    "duration": 471,
    "start_time": "2024-09-18T04:38:55.458Z"
   },
   {
    "duration": 301,
    "start_time": "2024-09-18T04:38:56.348Z"
   },
   {
    "duration": 600,
    "start_time": "2024-09-18T04:47:07.403Z"
   },
   {
    "duration": 482,
    "start_time": "2024-09-18T04:50:10.088Z"
   },
   {
    "duration": 484,
    "start_time": "2024-09-18T04:51:30.955Z"
   },
   {
    "duration": 31,
    "start_time": "2024-09-18T04:53:51.529Z"
   },
   {
    "duration": 482,
    "start_time": "2024-09-18T04:57:52.974Z"
   },
   {
    "duration": 8,
    "start_time": "2024-09-18T05:03:04.959Z"
   },
   {
    "duration": 16,
    "start_time": "2024-09-18T05:15:52.888Z"
   },
   {
    "duration": 3,
    "start_time": "2024-09-18T05:15:58.642Z"
   },
   {
    "duration": 13,
    "start_time": "2024-09-18T05:15:59.415Z"
   },
   {
    "duration": 7,
    "start_time": "2024-09-18T05:15:59.997Z"
   },
   {
    "duration": 6,
    "start_time": "2024-09-18T05:16:00.205Z"
   },
   {
    "duration": 9,
    "start_time": "2024-09-18T05:16:00.433Z"
   },
   {
    "duration": 19,
    "start_time": "2024-09-18T05:16:00.737Z"
   },
   {
    "duration": 4,
    "start_time": "2024-09-18T05:16:01.390Z"
   },
   {
    "duration": 6,
    "start_time": "2024-09-18T05:16:01.667Z"
   },
   {
    "duration": 6,
    "start_time": "2024-09-18T05:16:01.912Z"
   },
   {
    "duration": 4,
    "start_time": "2024-09-18T05:16:02.780Z"
   },
   {
    "duration": 4,
    "start_time": "2024-09-18T05:16:03.004Z"
   },
   {
    "duration": 168,
    "start_time": "2024-09-18T05:16:03.289Z"
   },
   {
    "duration": 480,
    "start_time": "2024-09-18T05:16:03.590Z"
   },
   {
    "duration": 332,
    "start_time": "2024-09-18T05:16:04.072Z"
   },
   {
    "duration": 4,
    "start_time": "2024-09-18T05:16:24.514Z"
   },
   {
    "duration": 4,
    "start_time": "2024-09-18T05:16:25.636Z"
   },
   {
    "duration": 172,
    "start_time": "2024-09-18T05:16:27.461Z"
   },
   {
    "duration": 486,
    "start_time": "2024-09-18T05:16:28.700Z"
   },
   {
    "duration": 317,
    "start_time": "2024-09-18T05:16:31.095Z"
   },
   {
    "duration": 481,
    "start_time": "2024-09-18T05:16:44.816Z"
   },
   {
    "duration": 30,
    "start_time": "2024-09-18T05:16:46.427Z"
   },
   {
    "duration": 8,
    "start_time": "2024-09-18T05:16:47.581Z"
   },
   {
    "duration": 182,
    "start_time": "2024-09-18T05:16:49.478Z"
   },
   {
    "duration": 165,
    "start_time": "2024-09-18T10:51:15.857Z"
   },
   {
    "duration": 2801,
    "start_time": "2024-09-18T10:51:30.514Z"
   },
   {
    "duration": 23,
    "start_time": "2024-09-18T10:51:33.317Z"
   },
   {
    "duration": 5,
    "start_time": "2024-09-18T10:51:33.342Z"
   },
   {
    "duration": 4,
    "start_time": "2024-09-18T10:51:33.349Z"
   },
   {
    "duration": 9,
    "start_time": "2024-09-18T10:51:33.356Z"
   },
   {
    "duration": 16,
    "start_time": "2024-09-18T10:51:33.367Z"
   },
   {
    "duration": 25,
    "start_time": "2024-09-18T10:51:33.385Z"
   },
   {
    "duration": 10,
    "start_time": "2024-09-18T10:51:33.412Z"
   },
   {
    "duration": 6,
    "start_time": "2024-09-18T10:51:33.423Z"
   },
   {
    "duration": 4,
    "start_time": "2024-09-18T10:51:33.431Z"
   },
   {
    "duration": 5,
    "start_time": "2024-09-18T10:51:33.437Z"
   },
   {
    "duration": 214,
    "start_time": "2024-09-18T10:51:33.444Z"
   },
   {
    "duration": 158,
    "start_time": "2024-09-18T12:09:33.994Z"
   },
   {
    "duration": 2670,
    "start_time": "2024-09-18T12:09:37.851Z"
   },
   {
    "duration": 20,
    "start_time": "2024-09-18T12:09:40.523Z"
   },
   {
    "duration": 6,
    "start_time": "2024-09-18T12:09:40.547Z"
   },
   {
    "duration": 5,
    "start_time": "2024-09-18T12:09:40.555Z"
   },
   {
    "duration": 26,
    "start_time": "2024-09-18T12:09:40.562Z"
   },
   {
    "duration": 17,
    "start_time": "2024-09-18T12:09:40.590Z"
   },
   {
    "duration": 3,
    "start_time": "2024-09-18T12:09:40.609Z"
   },
   {
    "duration": 6,
    "start_time": "2024-09-18T12:09:40.613Z"
   },
   {
    "duration": 6,
    "start_time": "2024-09-18T12:09:40.621Z"
   },
   {
    "duration": 4,
    "start_time": "2024-09-18T12:09:40.628Z"
   },
   {
    "duration": 5,
    "start_time": "2024-09-18T12:09:40.633Z"
   },
   {
    "duration": 209,
    "start_time": "2024-09-18T12:09:40.640Z"
   },
   {
    "duration": 485,
    "start_time": "2024-09-18T12:09:40.853Z"
   },
   {
    "duration": 348,
    "start_time": "2024-09-18T12:09:41.340Z"
   },
   {
    "duration": 477,
    "start_time": "2024-09-18T12:09:41.690Z"
   },
   {
    "duration": 42,
    "start_time": "2024-09-18T12:09:42.170Z"
   },
   {
    "duration": 7,
    "start_time": "2024-09-18T12:09:42.214Z"
   },
   {
    "duration": 88,
    "start_time": "2024-09-18T12:09:42.223Z"
   },
   {
    "duration": 79965,
    "start_time": "2024-09-18T12:12:34.761Z"
   },
   {
    "duration": 28757,
    "start_time": "2024-09-18T12:22:49.399Z"
   },
   {
    "duration": 5,
    "start_time": "2024-09-18T12:26:10.022Z"
   },
   {
    "duration": 3,
    "start_time": "2024-09-18T12:26:10.617Z"
   },
   {
    "duration": 4,
    "start_time": "2024-09-18T12:26:11.698Z"
   },
   {
    "duration": 3,
    "start_time": "2024-09-18T12:26:12.233Z"
   },
   {
    "duration": 28145,
    "start_time": "2024-09-18T12:26:36.459Z"
   },
   {
    "duration": 154,
    "start_time": "2024-09-18T12:27:51.830Z"
   },
   {
    "duration": 176,
    "start_time": "2024-09-18T12:28:14.085Z"
   },
   {
    "duration": 155,
    "start_time": "2024-09-18T12:28:32.527Z"
   },
   {
    "duration": 0,
    "start_time": "2024-09-18T12:32:53.919Z"
   },
   {
    "duration": 503,
    "start_time": "2024-09-18T12:35:17.174Z"
   },
   {
    "duration": 590,
    "start_time": "2024-09-18T12:36:17.538Z"
   },
   {
    "duration": 3,
    "start_time": "2024-09-18T12:39:32.976Z"
   },
   {
    "duration": 28138,
    "start_time": "2024-09-18T12:39:33.668Z"
   },
   {
    "duration": 296,
    "start_time": "2024-09-18T12:40:01.808Z"
   },
   {
    "duration": 186,
    "start_time": "2024-09-18T12:40:02.105Z"
   },
   {
    "duration": 171,
    "start_time": "2024-09-18T12:40:02.294Z"
   },
   {
    "duration": 496,
    "start_time": "2024-09-18T12:40:02.467Z"
   },
   {
    "duration": 3,
    "start_time": "2024-09-18T12:45:06.529Z"
   },
   {
    "duration": 3,
    "start_time": "2024-09-18T12:45:13.653Z"
   },
   {
    "duration": 16,
    "start_time": "2024-09-18T12:48:21.414Z"
   },
   {
    "duration": 161,
    "start_time": "2024-09-18T12:48:38.788Z"
   },
   {
    "duration": 175,
    "start_time": "2024-09-18T12:49:11.229Z"
   },
   {
    "duration": 17,
    "start_time": "2024-09-18T12:50:45.020Z"
   },
   {
    "duration": 156,
    "start_time": "2024-09-18T12:50:57.350Z"
   },
   {
    "duration": 18,
    "start_time": "2024-09-18T12:51:17.053Z"
   },
   {
    "duration": 180,
    "start_time": "2024-09-18T12:51:28.365Z"
   },
   {
    "duration": 1009,
    "start_time": "2024-09-18T12:52:46.544Z"
   },
   {
    "duration": 16,
    "start_time": "2024-09-18T12:52:47.555Z"
   },
   {
    "duration": 15,
    "start_time": "2024-09-18T12:52:47.572Z"
   },
   {
    "duration": 5,
    "start_time": "2024-09-18T12:52:47.589Z"
   },
   {
    "duration": 9,
    "start_time": "2024-09-18T12:52:47.595Z"
   },
   {
    "duration": 17,
    "start_time": "2024-09-18T12:52:47.605Z"
   },
   {
    "duration": 3,
    "start_time": "2024-09-18T12:52:47.624Z"
   },
   {
    "duration": 6,
    "start_time": "2024-09-18T12:52:47.629Z"
   },
   {
    "duration": 7,
    "start_time": "2024-09-18T12:52:47.636Z"
   },
   {
    "duration": 41,
    "start_time": "2024-09-18T12:52:47.646Z"
   },
   {
    "duration": 4,
    "start_time": "2024-09-18T12:52:47.689Z"
   },
   {
    "duration": 4,
    "start_time": "2024-09-18T12:52:47.695Z"
   },
   {
    "duration": 28200,
    "start_time": "2024-09-18T12:52:47.700Z"
   },
   {
    "duration": 277,
    "start_time": "2024-09-18T12:53:15.904Z"
   },
   {
    "duration": 178,
    "start_time": "2024-09-18T12:53:16.187Z"
   },
   {
    "duration": 169,
    "start_time": "2024-09-18T12:53:16.367Z"
   },
   {
    "duration": 198,
    "start_time": "2024-09-18T12:53:16.538Z"
   },
   {
    "duration": 316,
    "start_time": "2024-09-18T12:53:16.737Z"
   },
   {
    "duration": 0,
    "start_time": "2024-09-18T12:53:17.055Z"
   },
   {
    "duration": 0,
    "start_time": "2024-09-18T12:53:17.056Z"
   },
   {
    "duration": 157,
    "start_time": "2024-09-18T13:50:08.427Z"
   },
   {
    "duration": 2619,
    "start_time": "2024-09-18T13:50:17.227Z"
   },
   {
    "duration": 22,
    "start_time": "2024-09-18T13:50:19.848Z"
   },
   {
    "duration": 6,
    "start_time": "2024-09-18T13:50:21.623Z"
   },
   {
    "duration": 5,
    "start_time": "2024-09-18T13:50:22.181Z"
   },
   {
    "duration": 9,
    "start_time": "2024-09-18T13:50:22.689Z"
   },
   {
    "duration": 18,
    "start_time": "2024-09-18T13:50:24.421Z"
   },
   {
    "duration": 3,
    "start_time": "2024-09-18T13:50:27.816Z"
   },
   {
    "duration": 7,
    "start_time": "2024-09-18T13:50:29.275Z"
   },
   {
    "duration": 6,
    "start_time": "2024-09-18T13:50:29.765Z"
   },
   {
    "duration": 5,
    "start_time": "2024-09-18T13:50:34.904Z"
   },
   {
    "duration": 4,
    "start_time": "2024-09-18T13:50:39.319Z"
   },
   {
    "duration": 5,
    "start_time": "2024-09-18T13:50:39.940Z"
   },
   {
    "duration": 28110,
    "start_time": "2024-09-18T13:50:45.346Z"
   },
   {
    "duration": 163,
    "start_time": "2024-09-18T13:51:16.651Z"
   },
   {
    "duration": 173,
    "start_time": "2024-09-18T13:51:19.677Z"
   },
   {
    "duration": 158,
    "start_time": "2024-09-18T13:51:21.833Z"
   },
   {
    "duration": 175,
    "start_time": "2024-09-18T13:51:25.393Z"
   },
   {
    "duration": 92,
    "start_time": "2024-09-18T13:51:32.652Z"
   },
   {
    "duration": 14,
    "start_time": "2024-09-18T13:52:45.777Z"
   },
   {
    "duration": 30,
    "start_time": "2024-09-18T13:55:46.638Z"
   },
   {
    "duration": 14,
    "start_time": "2024-09-18T13:56:03.976Z"
   },
   {
    "duration": 16,
    "start_time": "2024-09-18T13:57:12.707Z"
   },
   {
    "duration": 13,
    "start_time": "2024-09-18T13:57:38.334Z"
   },
   {
    "duration": 104,
    "start_time": "2024-09-18T13:57:56.634Z"
   }
  ],
  "kernelspec": {
   "display_name": "Python 3 (ipykernel)",
   "language": "python",
   "name": "python3"
  },
  "language_info": {
   "codemirror_mode": {
    "name": "ipython",
    "version": 3
   },
   "file_extension": ".py",
   "mimetype": "text/x-python",
   "name": "python",
   "nbconvert_exporter": "python",
   "pygments_lexer": "ipython3",
   "version": "3.12.4"
  },
  "toc": {
   "base_numbering": 1,
   "nav_menu": {},
   "number_sections": true,
   "sideBar": true,
   "skip_h1_title": true,
   "title_cell": "Table of Contents",
   "title_sidebar": "Contents",
   "toc_cell": false,
   "toc_position": {},
   "toc_section_display": true,
   "toc_window_display": false
  }
 },
 "nbformat": 4,
 "nbformat_minor": 4
}
